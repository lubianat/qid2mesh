{
 "cells": [
  {
   "cell_type": "code",
   "execution_count": 22,
   "metadata": {},
   "outputs": [
    {
     "name": "stdout",
     "output_type": "stream",
     "text": [
      "mv: cannot stat '/home/lubianat/Downloads/Inflammatory_disease_studies - disease ids (Disease).tsv': No such file or directory\n"
     ]
    }
   ],
   "source": [
    "import pandas as pd\n",
    "!mv /home/lubianat/Downloads/Inflammatory_disease_studies\\ -\\ disease\\ ids\\ \\(Disease\\).tsv . "
   ]
  },
  {
   "cell_type": "code",
   "execution_count": 23,
   "metadata": {},
   "outputs": [],
   "source": [
    "df = pd.read_table(\"Inflammatory_disease_studies - disease ids (Disease).tsv\")"
   ]
  },
  {
   "cell_type": "code",
   "execution_count": 24,
   "metadata": {},
   "outputs": [
    {
     "data": {
      "text/html": [
       "<div>\n",
       "<style scoped>\n",
       "    .dataframe tbody tr th:only-of-type {\n",
       "        vertical-align: middle;\n",
       "    }\n",
       "\n",
       "    .dataframe tbody tr th {\n",
       "        vertical-align: top;\n",
       "    }\n",
       "\n",
       "    .dataframe thead th {\n",
       "        text-align: right;\n",
       "    }\n",
       "</style>\n",
       "<table border=\"1\" class=\"dataframe\">\n",
       "  <thead>\n",
       "    <tr style=\"text-align: right;\">\n",
       "      <th></th>\n",
       "      <th>original name</th>\n",
       "      <th>label</th>\n",
       "      <th>wikidata_id</th>\n",
       "    </tr>\n",
       "  </thead>\n",
       "  <tbody>\n",
       "    <tr>\n",
       "      <th>0</th>\n",
       "      <td>AGERELATEDOSTEOPOROSIS</td>\n",
       "      <td>age-related osteoporosis</td>\n",
       "      <td>Q105836316</td>\n",
       "    </tr>\n",
       "    <tr>\n",
       "      <th>1</th>\n",
       "      <td>AmyotrophicLateralSclerosis</td>\n",
       "      <td>amyotrophic lateral sclerosis</td>\n",
       "      <td>Q206901</td>\n",
       "    </tr>\n",
       "    <tr>\n",
       "      <th>2</th>\n",
       "      <td>Anemia</td>\n",
       "      <td>anemia</td>\n",
       "      <td>Q5445</td>\n",
       "    </tr>\n",
       "    <tr>\n",
       "      <th>3</th>\n",
       "      <td>ANEURYSM</td>\n",
       "      <td>aneurysm</td>\n",
       "      <td>Q189389</td>\n",
       "    </tr>\n",
       "    <tr>\n",
       "      <th>4</th>\n",
       "      <td>ANKYLOSINGSPONDYLARTHRITIDES</td>\n",
       "      <td>ankylosing spondylitis</td>\n",
       "      <td>Q52849</td>\n",
       "    </tr>\n",
       "    <tr>\n",
       "      <th>...</th>\n",
       "      <td>...</td>\n",
       "      <td>...</td>\n",
       "      <td>...</td>\n",
       "    </tr>\n",
       "    <tr>\n",
       "      <th>91</th>\n",
       "      <td>Uveitis</td>\n",
       "      <td>uveitis</td>\n",
       "      <td>Q280027</td>\n",
       "    </tr>\n",
       "    <tr>\n",
       "      <th>92</th>\n",
       "      <td>Adenomyosis</td>\n",
       "      <td>adenomyosis</td>\n",
       "      <td>Q2012569</td>\n",
       "    </tr>\n",
       "    <tr>\n",
       "      <th>93</th>\n",
       "      <td>UterineFibroid</td>\n",
       "      <td>uterine fibroid</td>\n",
       "      <td>Q556281</td>\n",
       "    </tr>\n",
       "    <tr>\n",
       "      <th>94</th>\n",
       "      <td>NeuramuscularPain</td>\n",
       "      <td>neuromuscular disease</td>\n",
       "      <td>Q2246789</td>\n",
       "    </tr>\n",
       "    <tr>\n",
       "      <th>95</th>\n",
       "      <td>BenignProstaticHyperplasia</td>\n",
       "      <td>prostatic hypertrophy</td>\n",
       "      <td>Q506659</td>\n",
       "    </tr>\n",
       "  </tbody>\n",
       "</table>\n",
       "<p>96 rows × 3 columns</p>\n",
       "</div>"
      ],
      "text/plain": [
       "                   original name                          label wikidata_id\n",
       "0         AGERELATEDOSTEOPOROSIS       age-related osteoporosis  Q105836316\n",
       "1    AmyotrophicLateralSclerosis  amyotrophic lateral sclerosis     Q206901\n",
       "2                         Anemia                         anemia       Q5445\n",
       "3                       ANEURYSM                       aneurysm     Q189389\n",
       "4   ANKYLOSINGSPONDYLARTHRITIDES         ankylosing spondylitis      Q52849\n",
       "..                           ...                            ...         ...\n",
       "91                       Uveitis                        uveitis     Q280027\n",
       "92                   Adenomyosis                    adenomyosis    Q2012569\n",
       "93                UterineFibroid                uterine fibroid     Q556281\n",
       "94             NeuramuscularPain          neuromuscular disease    Q2246789\n",
       "95    BenignProstaticHyperplasia          prostatic hypertrophy     Q506659\n",
       "\n",
       "[96 rows x 3 columns]"
      ]
     },
     "execution_count": 24,
     "metadata": {},
     "output_type": "execute_result"
    }
   ],
   "source": [
    "df"
   ]
  },
  {
   "cell_type": "code",
   "execution_count": 25,
   "metadata": {},
   "outputs": [],
   "source": [
    "formatted_ids = [f\"wd:{i}\" for i in df[\"wikidata_id\"]]"
   ]
  },
  {
   "cell_type": "code",
   "execution_count": 26,
   "metadata": {},
   "outputs": [
    {
     "name": "stdout",
     "output_type": "stream",
     "text": [
      "\n",
      "select distinct ?disease ?diseaseLabel ?MeSH where {\n",
      "\n",
      "    VALUES ?disease { wd:Q105836316 wd:Q206901 wd:Q5445 wd:Q189389 wd:Q52849 wd:Q582207 wd:Q121041 wd:Q170990 wd:Q503629 wd:Q35869 wd:Q12252367 wd:Q28867094 wd:Q808892 wd:Q2484592 wd:Q911427 wd:Q424227 wd:Q17177467 wd:Q12078 wd:Q5051580 wd:Q190805 wd:Q847583 wd:Q199804 wd:Q844935 wd:Q844935 wd:Q1472 wd:Q178194 wd:Q246084 wd:Q229256 wd:Q229256 wd:Q1648484 wd:Q27677697 wd:Q1335642 wd:Q82504 wd:Q205764 wd:Q1340774 wd:Q105836372 wd:Q540571 wd:Q55785982 wd:Q183130 wd:Q1161568 wd:Q16483 wd:Q205214 wd:Q181754 wd:Q1035319 wd:Q131742 wd:Q65214459 wd:Q1079120 wd:Q41861 wd:Q41861 wd:Q45782461 wd:Q1790424 wd:Q6318950 wd:Q265936 wd:Q757838 wd:Q1054718 wd:Q3392853 wd:Q3392853 wd:Q201989 wd:Q8277 wd:Q692536 wd:Q12174 wd:Q972514 wd:Q938983 wd:Q480700 wd:Q1572384 wd:Q1527888 wd:Q2044034 wd:Q933716 wd:Q61335 wd:Q179945 wd:Q16070735 wd:Q32446 wd:Q935293 wd:Q1923955 wd:Q114085 wd:Q114085 wd:Q193894 wd:Q5340515 wd:Q183344 wd:Q335555 wd:Q657516 wd:Q911386 wd:Q12202 wd:Q924421 wd:Q1485 wd:Q5340515 wd:Q124407 wd:Q3025883 wd:Q499574 wd:Q11835644 wd:Q1477 wd:Q280027 wd:Q2012569 wd:Q556281 wd:Q2246789 wd:Q506659}\n",
      "    OPTIONAL { ?disease wdt:P486 ?MeSH .}\n",
      "    SERVICE wikibase:label { bd:serviceParam wikibase:language \"[AUTO_LANGUAGE],en\". }\n",
      "\n",
      "}\n",
      "\n"
     ]
    }
   ],
   "source": [
    "query = f\"\"\"\n",
    "select distinct ?disease ?diseaseLabel ?MeSH where {{\n",
    "\n",
    "    VALUES ?disease {{ {\" \".join(formatted_ids)}}}\n",
    "    OPTIONAL {{ ?disease wdt:P486 ?MeSH .}}\n",
    "    SERVICE wikibase:label {{ bd:serviceParam wikibase:language \"[AUTO_LANGUAGE],en\". }}\n",
    "\n",
    "}}\n",
    "\"\"\"\n",
    "\n",
    "print(query)"
   ]
  },
  {
   "cell_type": "code",
   "execution_count": 27,
   "metadata": {},
   "outputs": [],
   "source": [
    "from wikidata2df import wikidata2df\n",
    "\n",
    "df_query = wikidata2df(query)"
   ]
  },
  {
   "cell_type": "code",
   "execution_count": 33,
   "metadata": {},
   "outputs": [],
   "source": [
    "df_merged = df.merge(df_query, left_on=\"wikidata_id\", right_on=\"disease\")"
   ]
  },
  {
   "cell_type": "code",
   "execution_count": 34,
   "metadata": {},
   "outputs": [],
   "source": [
    "df_merged.to_csv(\"with_MeSH.csv\")"
   ]
  }
 ],
 "metadata": {
  "kernelspec": {
   "display_name": "Python 3",
   "language": "python",
   "name": "python3"
  },
  "language_info": {
   "codemirror_mode": {
    "name": "ipython",
    "version": 3
   },
   "file_extension": ".py",
   "mimetype": "text/x-python",
   "name": "python",
   "nbconvert_exporter": "python",
   "pygments_lexer": "ipython3",
   "version": "3.6.9"
  }
 },
 "nbformat": 4,
 "nbformat_minor": 4
}
